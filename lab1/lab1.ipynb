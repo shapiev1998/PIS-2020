{
 "cells": [
  {
   "cell_type": "code",
   "execution_count": 9,
   "metadata": {},
   "outputs": [
    {
     "name": "stdout",
     "output_type": "stream",
     "text": [
      "tf.Tensor(3.0, shape=(), dtype=float32)\n",
      "tf.Tensor(36.0, shape=(), dtype=float32)\n"
     ]
    }
   ],
   "source": [
    "import tensorflow as tf\n",
    "\n",
    "@tf.function \n",
    "def f(a, b):\n",
    "    g = tf.Graph()\n",
    "    with g.as_default():\n",
    "        y = tf.add(a,b)\n",
    "        return y\n",
    "    \n",
    "a = tf.constant(1.0) \n",
    "b = tf.constant(2.0)\n",
    "\n",
    "print(f(a, b))\n",
    "\n",
    "\n",
    " \n",
    "@tf.function \n",
    "def f2(a, b):\n",
    "    g = tf.Graph()\n",
    "    with g.as_default():\n",
    "        c = tf. multiply (a,b)\n",
    "        y = tf. pow (c,2)\n",
    "        return y\n",
    "    \n",
    "a = tf.constant(2.0) \n",
    "b = tf.constant(3.0)\n",
    "    \n",
    "print(f2(a, b))\n",
    "\n"
   ]
  }
 ],
 "metadata": {
  "kernelspec": {
   "display_name": "Python 3",
   "language": "python",
   "name": "python3"
  },
  "language_info": {
   "codemirror_mode": {
    "name": "ipython",
    "version": 3
   },
   "file_extension": ".py",
   "mimetype": "text/x-python",
   "name": "python",
   "nbconvert_exporter": "python",
   "pygments_lexer": "ipython3",
   "version": "3.6.3"
  }
 },
 "nbformat": 4,
 "nbformat_minor": 4
}
